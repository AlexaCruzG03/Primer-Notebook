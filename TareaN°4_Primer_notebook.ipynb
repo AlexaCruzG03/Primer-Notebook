{
  "nbformat": 4,
  "nbformat_minor": 0,
  "metadata": {
    "colab": {
      "provenance": []
    },
    "kernelspec": {
      "name": "python3",
      "display_name": "Python 3"
    },
    "language_info": {
      "name": "python"
    }
  },
  "cells": [
    {
      "cell_type": "code",
      "execution_count": 4,
      "metadata": {
        "colab": {
          "base_uri": "https://localhost:8080/"
        },
        "id": "4lRdsGubx2AB",
        "outputId": "8acb7f12-11d2-4bf2-8ef7-5cd222bc4c7b"
      },
      "outputs": [
        {
          "output_type": "stream",
          "name": "stdout",
          "text": [
            "¡hola, soy alexa!\n"
          ]
        }
      ],
      "source": [
        "print(\"¡hola, soy alexa!\")"
      ]
    },
    {
      "cell_type": "code",
      "source": [],
      "metadata": {
        "id": "smJcPEyfAH4X"
      },
      "execution_count": null,
      "outputs": []
    }
  ]
}